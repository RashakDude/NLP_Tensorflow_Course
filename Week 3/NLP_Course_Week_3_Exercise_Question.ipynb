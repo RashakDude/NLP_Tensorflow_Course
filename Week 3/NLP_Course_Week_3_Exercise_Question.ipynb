{
  "nbformat": 4,
  "nbformat_minor": 0,
  "metadata": {
    "colab": {
      "name": "NLP Course - Week 3 Exercise Question.ipynb",
      "provenance": []
    },
    "kernelspec": {
      "name": "python3",
      "display_name": "Python 3"
    },
    "accelerator": "GPU"
  },
  "cells": [
    {
      "cell_type": "code",
      "metadata": {
        "id": "hmA6EzkQJ5jt",
        "colab_type": "code",
        "colab": {
          "base_uri": "https://localhost:8080/",
          "height": 62
        },
        "outputId": "515bfd3e-0987-4ee8-889e-3b2f93cf58ba"
      },
      "source": [
        "import json\n",
        "import tensorflow as tf\n",
        "import csv\n",
        "import random\n",
        "import numpy as np\n",
        "\n",
        "from tensorflow.keras.preprocessing.text import Tokenizer\n",
        "from tensorflow.keras.preprocessing.sequence import pad_sequences\n",
        "from tensorflow.keras.utils import to_categorical\n",
        "from tensorflow.keras import regularizers\n",
        "\n",
        "\n",
        "embedding_dim = 100\n",
        "max_length = 16\n",
        "trunc_type='post'\n",
        "padding_type='post'\n",
        "oov_tok = \"<OOV>\"\n",
        "training_size=160000 #Your dataset size here. Experiment using smaller values (i.e. 16000), but don't forget to train on at least 160000 to see the best effects\n",
        "test_portion=.1\n",
        "\n",
        "corpus = []\n"
      ],
      "execution_count": 1,
      "outputs": [
        {
          "output_type": "display_data",
          "data": {
            "text/html": [
              "<p style=\"color: red;\">\n",
              "The default version of TensorFlow in Colab will soon switch to TensorFlow 2.x.<br>\n",
              "We recommend you <a href=\"https://www.tensorflow.org/guide/migrate\" target=\"_blank\">upgrade</a> now \n",
              "or ensure your notebook will continue to use TensorFlow 1.x via the <code>%tensorflow_version 1.x</code> magic:\n",
              "<a href=\"https://colab.research.google.com/notebooks/tensorflow_version.ipynb\" target=\"_blank\">more info</a>.</p>\n"
            ],
            "text/plain": [
              "<IPython.core.display.HTML object>"
            ]
          },
          "metadata": {
            "tags": []
          }
        }
      ]
    },
    {
      "cell_type": "code",
      "metadata": {
        "id": "bM0l_dORKqE0",
        "colab_type": "code",
        "outputId": "6639b829-025c-406a-eead-504b5a63afb8",
        "colab": {
          "base_uri": "https://localhost:8080/",
          "height": 202
        }
      },
      "source": [
        "\n",
        "# Note that I cleaned the Stanford dataset to remove LATIN1 encoding to make it easier for Python CSV reader\n",
        "# You can do that yourself with:\n",
        "# iconv -f LATIN1 -t UTF8 training.1600000.processed.noemoticon.csv -o training_cleaned.csv\n",
        "# I then hosted it on my site to make it easier to use in this notebook\n",
        "\n",
        "!wget --no-check-certificate \\\n",
        "    https://storage.googleapis.com/laurencemoroney-blog.appspot.com/training_cleaned.csv \\\n",
        "    -O /tmp/training_cleaned.csv\n",
        "\n",
        "num_sentences = 0\n",
        "\n",
        "with open(\"/tmp/training_cleaned.csv\") as csvfile:\n",
        "    reader = csv.reader(csvfile, delimiter=',')\n",
        "    for row in reader:\n",
        "      # Your Code here. Create list items where the first item is the text, found in row[5], and the second is the label. Note that the label is a '0' or a '4' in the text. When it's the former, make\n",
        "      # your label to be 0, otherwise 1. Keep a count of the number of sentences in num_sentences\n",
        "        list_item=[]\n",
        "        list_item.append(row[5])\n",
        "        this_label=row[0]\n",
        "        if this_label=='0':\n",
        "            list_item.append(0)\n",
        "        else:\n",
        "            list_item.append(1)\n",
        "        # YOUR CODE HERE\n",
        "        num_sentences = num_sentences + 1\n",
        "        corpus.append(list_item)\n",
        "\n",
        "\n"
      ],
      "execution_count": 2,
      "outputs": [
        {
          "output_type": "stream",
          "text": [
            "--2020-01-19 11:33:59--  https://storage.googleapis.com/laurencemoroney-blog.appspot.com/training_cleaned.csv\n",
            "Resolving storage.googleapis.com (storage.googleapis.com)... 108.177.112.128, 2607:f8b0:4001:c02::80\n",
            "Connecting to storage.googleapis.com (storage.googleapis.com)|108.177.112.128|:443... connected.\n",
            "HTTP request sent, awaiting response... 200 OK\n",
            "Length: 238942690 (228M) [application/octet-stream]\n",
            "Saving to: ‘/tmp/training_cleaned.csv’\n",
            "\n",
            "/tmp/training_clean 100%[===================>] 227.87M   131MB/s    in 1.7s    \n",
            "\n",
            "2020-01-19 11:34:01 (131 MB/s) - ‘/tmp/training_cleaned.csv’ saved [238942690/238942690]\n",
            "\n"
          ],
          "name": "stdout"
        }
      ]
    },
    {
      "cell_type": "code",
      "metadata": {
        "id": "3kxblBUjEUX-",
        "colab_type": "code",
        "outputId": "aa6e713f-d4a6-4bb7-e836-a680c30130df",
        "colab": {
          "base_uri": "https://localhost:8080/",
          "height": 67
        }
      },
      "source": [
        "print(num_sentences)\n",
        "print(len(corpus))\n",
        "print(corpus[1])\n",
        "\n",
        "# Expected Output:\n",
        "# 1600000\n",
        "# 1600000\n",
        "# [\"is upset that he can't update his Facebook by texting it... and might cry as a result  School today also. Blah!\", 0]"
      ],
      "execution_count": 3,
      "outputs": [
        {
          "output_type": "stream",
          "text": [
            "1600000\n",
            "1600000\n",
            "[\"is upset that he can't update his Facebook by texting it... and might cry as a result  School today also. Blah!\", 0]\n"
          ],
          "name": "stdout"
        }
      ]
    },
    {
      "cell_type": "code",
      "metadata": {
        "id": "ohOGz24lsNAD",
        "colab_type": "code",
        "colab": {}
      },
      "source": [
        "sentences=[]\n",
        "labels=[]\n",
        "random.shuffle(corpus)\n",
        "for x in range(training_size):\n",
        "    sentences.append(corpus[x][0])\n",
        "    labels.append(corpus[x][1])\n",
        "\n",
        "\n",
        "tokenizer = Tokenizer()\n",
        "tokenizer.fit_on_texts(sentences)\n",
        "\n",
        "word_index = tokenizer.word_index\n",
        "vocab_size=len(word_index)\n",
        "\n",
        "sequences = tokenizer.texts_to_sequences(sentences)\n",
        "padded = pad_sequences(sequences, maxlen=max_length, padding=padding_type, truncating=trunc_type)\n",
        "\n",
        "split = int(test_portion * training_size)\n",
        "\n",
        "test_sequences = padded[0:split]\n",
        "training_sequences = padded[split:training_size]\n",
        "test_labels = labels[0:split]\n",
        "training_labels = labels[split:training_size]"
      ],
      "execution_count": 0,
      "outputs": []
    },
    {
      "cell_type": "code",
      "metadata": {
        "id": "gIrtRem1En3N",
        "colab_type": "code",
        "outputId": "55579331-6496-442f-84f6-e56d9eb74dda",
        "colab": {
          "base_uri": "https://localhost:8080/",
          "height": 50
        }
      },
      "source": [
        "print(vocab_size)\n",
        "print(word_index['i'])\n",
        "# Expected Output\n",
        "# 138858\n",
        "# 1"
      ],
      "execution_count": 5,
      "outputs": [
        {
          "output_type": "stream",
          "text": [
            "139084\n",
            "1\n"
          ],
          "name": "stdout"
        }
      ]
    },
    {
      "cell_type": "code",
      "metadata": {
        "id": "C1zdgJkusRh0",
        "colab_type": "code",
        "outputId": "a4deb01c-fa1a-4a36-cf6d-c60eeecf43a6",
        "colab": {
          "base_uri": "https://localhost:8080/",
          "height": 202
        }
      },
      "source": [
        "# Note this is the 100 dimension version of GloVe from Stanford\n",
        "# I unzipped and hosted it on my site to make this notebook easier\n",
        "!wget --no-check-certificate \\\n",
        "    https://storage.googleapis.com/laurencemoroney-blog.appspot.com/glove.6B.100d.txt \\\n",
        "    -O /tmp/glove.6B.100d.txt\n",
        "embeddings_index = {};\n",
        "with open('/tmp/glove.6B.100d.txt') as f:\n",
        "    for line in f:\n",
        "        values = line.split();\n",
        "        word = values[0];\n",
        "        coefs = np.asarray(values[1:], dtype='float32');\n",
        "        embeddings_index[word] = coefs;\n",
        "\n",
        "embeddings_matrix = np.zeros((vocab_size+1, embedding_dim));\n",
        "for word, i in word_index.items():\n",
        "    embedding_vector = embeddings_index.get(word);\n",
        "    if embedding_vector is not None:\n",
        "        embeddings_matrix[i] = embedding_vector;"
      ],
      "execution_count": 6,
      "outputs": [
        {
          "output_type": "stream",
          "text": [
            "--2020-01-19 11:34:53--  https://storage.googleapis.com/laurencemoroney-blog.appspot.com/glove.6B.100d.txt\n",
            "Resolving storage.googleapis.com (storage.googleapis.com)... 173.194.196.128, 2607:f8b0:4001:c14::80\n",
            "Connecting to storage.googleapis.com (storage.googleapis.com)|173.194.196.128|:443... connected.\n",
            "HTTP request sent, awaiting response... 200 OK\n",
            "Length: 347116733 (331M) [text/plain]\n",
            "Saving to: ‘/tmp/glove.6B.100d.txt’\n",
            "\n",
            "/tmp/glove.6B.100d. 100%[===================>] 331.04M   110MB/s    in 3.0s    \n",
            "\n",
            "2020-01-19 11:34:56 (110 MB/s) - ‘/tmp/glove.6B.100d.txt’ saved [347116733/347116733]\n",
            "\n"
          ],
          "name": "stdout"
        }
      ]
    },
    {
      "cell_type": "code",
      "metadata": {
        "id": "71NLk_lpFLNt",
        "colab_type": "code",
        "outputId": "d326cecf-f5f9-44cd-8a47-c394ef42c2e2",
        "colab": {
          "base_uri": "https://localhost:8080/",
          "height": 34
        }
      },
      "source": [
        "print(len(embeddings_matrix))\n",
        "# Expected Output\n",
        "# 138859"
      ],
      "execution_count": 7,
      "outputs": [
        {
          "output_type": "stream",
          "text": [
            "139085\n"
          ],
          "name": "stdout"
        }
      ]
    },
    {
      "cell_type": "code",
      "metadata": {
        "colab_type": "code",
        "id": "iKKvbuEBOGFz",
        "colab": {
          "base_uri": "https://localhost:8080/",
          "height": 1000
        },
        "outputId": "d251dd35-a00b-4519-abec-58e409610a6d"
      },
      "source": [
        "model = tf.keras.Sequential([\n",
        "    tf.keras.layers.Embedding(vocab_size+1, embedding_dim, input_length=max_length, weights=[embeddings_matrix], trainable=False),\n",
        "    tf.keras.layers.Dropout(0.2),\n",
        "    tf.keras.layers.Conv1D(64, 5, activation='relu'),\n",
        "    tf.keras.layers.MaxPooling1D(pool_size=4),\n",
        "    tf.keras.layers.LSTM(64),\n",
        "    tf.keras.layers.Dense(1, activation='sigmoid')\n",
        "    # YOUR CODE HERE - experiment with combining different types, such as convolutions and LSTMs\n",
        "])\n",
        "model.compile(loss='binary_crossentropy',optimizer='adam',metrics=['accuracy'])\n",
        "model.summary()\n",
        "\n",
        "num_epochs = 50\n",
        "history = model.fit(training_sequences, training_labels, epochs=num_epochs, validation_data=(test_sequences, test_labels), verbose=2)\n",
        "\n",
        "print(\"Training Complete\")\n"
      ],
      "execution_count": 8,
      "outputs": [
        {
          "output_type": "stream",
          "text": [
            "WARNING:tensorflow:From /usr/local/lib/python3.6/dist-packages/tensorflow_core/python/keras/initializers.py:119: calling RandomUniform.__init__ (from tensorflow.python.ops.init_ops) with dtype is deprecated and will be removed in a future version.\n",
            "Instructions for updating:\n",
            "Call initializer instance with the dtype argument instead of passing it to the constructor\n",
            "WARNING:tensorflow:From /usr/local/lib/python3.6/dist-packages/tensorflow_core/python/ops/resource_variable_ops.py:1630: calling BaseResourceVariable.__init__ (from tensorflow.python.ops.resource_variable_ops) with constraint is deprecated and will be removed in a future version.\n",
            "Instructions for updating:\n",
            "If using Keras pass *_constraint arguments to layers.\n",
            "WARNING:tensorflow:From /usr/local/lib/python3.6/dist-packages/tensorflow_core/python/ops/nn_impl.py:183: where (from tensorflow.python.ops.array_ops) is deprecated and will be removed in a future version.\n",
            "Instructions for updating:\n",
            "Use tf.where in 2.0, which has the same broadcast rule as np.where\n",
            "Model: \"sequential\"\n",
            "_________________________________________________________________\n",
            "Layer (type)                 Output Shape              Param #   \n",
            "=================================================================\n",
            "embedding (Embedding)        (None, 16, 100)           13908500  \n",
            "_________________________________________________________________\n",
            "dropout (Dropout)            (None, 16, 100)           0         \n",
            "_________________________________________________________________\n",
            "conv1d (Conv1D)              (None, 12, 64)            32064     \n",
            "_________________________________________________________________\n",
            "max_pooling1d (MaxPooling1D) (None, 3, 64)             0         \n",
            "_________________________________________________________________\n",
            "lstm (LSTM)                  (None, 64)                33024     \n",
            "_________________________________________________________________\n",
            "dense (Dense)                (None, 1)                 65        \n",
            "=================================================================\n",
            "Total params: 13,973,653\n",
            "Trainable params: 65,153\n",
            "Non-trainable params: 13,908,500\n",
            "_________________________________________________________________\n",
            "Train on 144000 samples, validate on 16000 samples\n",
            "Epoch 1/50\n",
            "144000/144000 - 38s - loss: 0.5682 - acc: 0.6996 - val_loss: 0.5224 - val_acc: 0.7404\n",
            "Epoch 2/50\n",
            "144000/144000 - 31s - loss: 0.5287 - acc: 0.7318 - val_loss: 0.5070 - val_acc: 0.7467\n",
            "Epoch 3/50\n",
            "144000/144000 - 31s - loss: 0.5116 - acc: 0.7427 - val_loss: 0.5073 - val_acc: 0.7487\n",
            "Epoch 4/50\n",
            "144000/144000 - 31s - loss: 0.5007 - acc: 0.7507 - val_loss: 0.4968 - val_acc: 0.7558\n",
            "Epoch 5/50\n",
            "144000/144000 - 31s - loss: 0.4928 - acc: 0.7565 - val_loss: 0.4961 - val_acc: 0.7596\n",
            "Epoch 6/50\n",
            "144000/144000 - 31s - loss: 0.4848 - acc: 0.7622 - val_loss: 0.4994 - val_acc: 0.7519\n",
            "Epoch 7/50\n",
            "144000/144000 - 31s - loss: 0.4793 - acc: 0.7649 - val_loss: 0.4970 - val_acc: 0.7555\n",
            "Epoch 8/50\n",
            "144000/144000 - 31s - loss: 0.4752 - acc: 0.7669 - val_loss: 0.4934 - val_acc: 0.7552\n",
            "Epoch 9/50\n",
            "144000/144000 - 31s - loss: 0.4689 - acc: 0.7714 - val_loss: 0.4946 - val_acc: 0.7579\n",
            "Epoch 10/50\n",
            "144000/144000 - 31s - loss: 0.4654 - acc: 0.7738 - val_loss: 0.4972 - val_acc: 0.7579\n",
            "Epoch 11/50\n",
            "144000/144000 - 31s - loss: 0.4627 - acc: 0.7759 - val_loss: 0.4999 - val_acc: 0.7578\n",
            "Epoch 12/50\n",
            "144000/144000 - 31s - loss: 0.4587 - acc: 0.7767 - val_loss: 0.5030 - val_acc: 0.7545\n",
            "Epoch 13/50\n",
            "144000/144000 - 31s - loss: 0.4581 - acc: 0.7772 - val_loss: 0.4995 - val_acc: 0.7568\n",
            "Epoch 14/50\n",
            "144000/144000 - 31s - loss: 0.4549 - acc: 0.7805 - val_loss: 0.4994 - val_acc: 0.7558\n",
            "Epoch 15/50\n",
            "144000/144000 - 31s - loss: 0.4523 - acc: 0.7820 - val_loss: 0.5108 - val_acc: 0.7480\n",
            "Epoch 16/50\n",
            "144000/144000 - 31s - loss: 0.4503 - acc: 0.7835 - val_loss: 0.5058 - val_acc: 0.7555\n",
            "Epoch 17/50\n",
            "144000/144000 - 31s - loss: 0.4500 - acc: 0.7844 - val_loss: 0.5047 - val_acc: 0.7519\n",
            "Epoch 18/50\n",
            "144000/144000 - 31s - loss: 0.4479 - acc: 0.7846 - val_loss: 0.5018 - val_acc: 0.7546\n",
            "Epoch 19/50\n",
            "144000/144000 - 31s - loss: 0.4467 - acc: 0.7858 - val_loss: 0.4993 - val_acc: 0.7550\n",
            "Epoch 20/50\n",
            "144000/144000 - 31s - loss: 0.4451 - acc: 0.7861 - val_loss: 0.5029 - val_acc: 0.7548\n",
            "Epoch 21/50\n",
            "144000/144000 - 31s - loss: 0.4432 - acc: 0.7873 - val_loss: 0.5017 - val_acc: 0.7552\n",
            "Epoch 22/50\n",
            "144000/144000 - 31s - loss: 0.4426 - acc: 0.7874 - val_loss: 0.5061 - val_acc: 0.7559\n",
            "Epoch 23/50\n",
            "144000/144000 - 31s - loss: 0.4412 - acc: 0.7899 - val_loss: 0.5022 - val_acc: 0.7556\n",
            "Epoch 24/50\n",
            "144000/144000 - 31s - loss: 0.4421 - acc: 0.7886 - val_loss: 0.5041 - val_acc: 0.7526\n",
            "Epoch 25/50\n",
            "144000/144000 - 31s - loss: 0.4396 - acc: 0.7893 - val_loss: 0.5053 - val_acc: 0.7558\n",
            "Epoch 26/50\n",
            "144000/144000 - 31s - loss: 0.4403 - acc: 0.7896 - val_loss: 0.5031 - val_acc: 0.7520\n",
            "Epoch 27/50\n",
            "144000/144000 - 31s - loss: 0.4384 - acc: 0.7913 - val_loss: 0.5053 - val_acc: 0.7536\n",
            "Epoch 28/50\n",
            "144000/144000 - 31s - loss: 0.4377 - acc: 0.7906 - val_loss: 0.5055 - val_acc: 0.7527\n",
            "Epoch 29/50\n",
            "144000/144000 - 31s - loss: 0.4365 - acc: 0.7910 - val_loss: 0.5068 - val_acc: 0.7585\n",
            "Epoch 30/50\n",
            "144000/144000 - 31s - loss: 0.4375 - acc: 0.7913 - val_loss: 0.5101 - val_acc: 0.7559\n",
            "Epoch 31/50\n",
            "144000/144000 - 31s - loss: 0.4372 - acc: 0.7904 - val_loss: 0.5088 - val_acc: 0.7533\n",
            "Epoch 32/50\n",
            "144000/144000 - 31s - loss: 0.4369 - acc: 0.7918 - val_loss: 0.5100 - val_acc: 0.7493\n",
            "Epoch 33/50\n",
            "144000/144000 - 31s - loss: 0.4338 - acc: 0.7926 - val_loss: 0.5101 - val_acc: 0.7545\n",
            "Epoch 34/50\n",
            "144000/144000 - 31s - loss: 0.4343 - acc: 0.7935 - val_loss: 0.5105 - val_acc: 0.7534\n",
            "Epoch 35/50\n",
            "144000/144000 - 31s - loss: 0.4333 - acc: 0.7928 - val_loss: 0.5111 - val_acc: 0.7556\n",
            "Epoch 36/50\n",
            "144000/144000 - 31s - loss: 0.4335 - acc: 0.7940 - val_loss: 0.5108 - val_acc: 0.7550\n",
            "Epoch 37/50\n",
            "144000/144000 - 31s - loss: 0.4332 - acc: 0.7936 - val_loss: 0.5127 - val_acc: 0.7517\n",
            "Epoch 38/50\n",
            "144000/144000 - 31s - loss: 0.4335 - acc: 0.7930 - val_loss: 0.5121 - val_acc: 0.7588\n",
            "Epoch 39/50\n",
            "144000/144000 - 31s - loss: 0.4330 - acc: 0.7926 - val_loss: 0.5159 - val_acc: 0.7586\n",
            "Epoch 40/50\n",
            "144000/144000 - 30s - loss: 0.4333 - acc: 0.7946 - val_loss: 0.5154 - val_acc: 0.7566\n",
            "Epoch 41/50\n",
            "144000/144000 - 30s - loss: 0.4316 - acc: 0.7940 - val_loss: 0.5094 - val_acc: 0.7563\n",
            "Epoch 42/50\n",
            "144000/144000 - 30s - loss: 0.4330 - acc: 0.7931 - val_loss: 0.5069 - val_acc: 0.7564\n",
            "Epoch 43/50\n",
            "144000/144000 - 30s - loss: 0.4310 - acc: 0.7956 - val_loss: 0.5166 - val_acc: 0.7526\n",
            "Epoch 44/50\n",
            "144000/144000 - 31s - loss: 0.4329 - acc: 0.7943 - val_loss: 0.5183 - val_acc: 0.7568\n",
            "Epoch 45/50\n",
            "144000/144000 - 33s - loss: 0.4324 - acc: 0.7943 - val_loss: 0.5126 - val_acc: 0.7527\n",
            "Epoch 46/50\n",
            "144000/144000 - 32s - loss: 0.4314 - acc: 0.7956 - val_loss: 0.5112 - val_acc: 0.7482\n",
            "Epoch 47/50\n",
            "144000/144000 - 34s - loss: 0.4306 - acc: 0.7954 - val_loss: 0.5152 - val_acc: 0.7556\n",
            "Epoch 48/50\n",
            "144000/144000 - 34s - loss: 0.4306 - acc: 0.7961 - val_loss: 0.5151 - val_acc: 0.7522\n",
            "Epoch 49/50\n",
            "144000/144000 - 33s - loss: 0.4315 - acc: 0.7946 - val_loss: 0.5222 - val_acc: 0.7465\n",
            "Epoch 50/50\n",
            "144000/144000 - 33s - loss: 0.4305 - acc: 0.7965 - val_loss: 0.5138 - val_acc: 0.7527\n",
            "Training Complete\n"
          ],
          "name": "stdout"
        }
      ]
    },
    {
      "cell_type": "code",
      "metadata": {
        "id": "qxju4ItJKO8F",
        "colab_type": "code",
        "colab": {
          "base_uri": "https://localhost:8080/",
          "height": 606
        },
        "outputId": "db76336a-cdba-4c52-9cce-b58f2729a6c1"
      },
      "source": [
        "import matplotlib.image  as mpimg\n",
        "import matplotlib.pyplot as plt\n",
        "\n",
        "#-----------------------------------------------------------\n",
        "# Retrieve a list of list results on training and test data\n",
        "# sets for each training epoch\n",
        "#-----------------------------------------------------------\n",
        "acc=history.history['acc']\n",
        "val_acc=history.history['val_acc']\n",
        "loss=history.history['loss']\n",
        "val_loss=history.history['val_loss']\n",
        "\n",
        "epochs=range(len(acc)) # Get number of epochs\n",
        "\n",
        "#------------------------------------------------\n",
        "# Plot training and validation accuracy per epoch\n",
        "#------------------------------------------------\n",
        "plt.plot(epochs, acc, 'r')\n",
        "plt.plot(epochs, val_acc, 'b')\n",
        "plt.title('Training and validation accuracy')\n",
        "plt.xlabel(\"Epochs\")\n",
        "plt.ylabel(\"Accuracy\")\n",
        "plt.legend([\"Accuracy\", \"Validation Accuracy\"])\n",
        "\n",
        "plt.figure()\n",
        "\n",
        "#------------------------------------------------\n",
        "# Plot training and validation loss per epoch\n",
        "#------------------------------------------------\n",
        "plt.plot(epochs, loss, 'r')\n",
        "plt.plot(epochs, val_loss, 'b')\n",
        "plt.title('Training and validation loss')\n",
        "plt.xlabel(\"Epochs\")\n",
        "plt.ylabel(\"Loss\")\n",
        "plt.legend([\"Loss\", \"Validation Loss\"])\n",
        "\n",
        "plt.figure()\n",
        "\n",
        "\n",
        "# Expected Output\n",
        "# A chart where the validation loss does not increase sharply!"
      ],
      "execution_count": 9,
      "outputs": [
        {
          "output_type": "execute_result",
          "data": {
            "text/plain": [
              "<Figure size 432x288 with 0 Axes>"
            ]
          },
          "metadata": {
            "tags": []
          },
          "execution_count": 9
        },
        {
          "output_type": "display_data",
          "data": {
            "image/png": "[encoded data removed]",
            "text/plain": [
              "<Figure size 432x288 with 1 Axes>"
            ]
          },
          "metadata": {
            "tags": []
          }
        },
        {
          "output_type": "display_data",
          "data": {
            "image/png": "[encoded data removed]",
            "text/plain": [
              "<Figure size 432x288 with 1 Axes>"
            ]
          },
          "metadata": {
            "tags": []
          }
        },
        {
          "output_type": "display_data",
          "data": {
            "text/plain": [
              "<Figure size 432x288 with 0 Axes>"
            ]
          },
          "metadata": {
            "tags": []
          }
        }
      ]
    }
  ]
}