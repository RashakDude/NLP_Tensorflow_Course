{
  "nbformat": 4,
  "nbformat_minor": 0,
  "metadata": {
    "colab": {
      "name": "NLP_Week4_Exercise_Shakespeare_Answer.ipynb",
      "provenance": []
    },
    "kernelspec": {
      "name": "python3",
      "display_name": "Python 3"
    },
    "accelerator": "GPU"
  },
  "cells": [
    {
      "cell_type": "code",
      "metadata": {
        "id": "BOwsuGQQY9OL",
        "colab_type": "code",
        "colab": {
          "base_uri": "https://localhost:8080/",
          "height": 62
        },
        "outputId": "dc76cb1c-f8a1-48a0-bf8b-771f273eaac2"
      },
      "source": [
        "from tensorflow.keras.preprocessing.sequence import pad_sequences\n",
        "from tensorflow.keras.layers import Embedding, LSTM, Dense, Dropout, Bidirectional\n",
        "from tensorflow.keras.preprocessing.text import Tokenizer\n",
        "from tensorflow.keras.models import Sequential\n",
        "from tensorflow.keras.optimizers import Adam\n",
        "from tensorflow.keras import regularizers\n",
        "import tensorflow.keras.utils as ku \n",
        "import numpy as np "
      ],
      "execution_count": 1,
      "outputs": [
        {
          "output_type": "display_data",
          "data": {
            "text/html": [
              "<p style=\"color: red;\">\n",
              "The default version of TensorFlow in Colab will soon switch to TensorFlow 2.x.<br>\n",
              "We recommend you <a href=\"https://www.tensorflow.org/guide/migrate\" target=\"_blank\">upgrade</a> now \n",
              "or ensure your notebook will continue to use TensorFlow 1.x via the <code>%tensorflow_version 1.x</code> magic:\n",
              "<a href=\"https://colab.research.google.com/notebooks/tensorflow_version.ipynb\" target=\"_blank\">more info</a>.</p>\n"
            ],
            "text/plain": [
              "<IPython.core.display.HTML object>"
            ]
          },
          "metadata": {
            "tags": []
          }
        }
      ]
    },
    {
      "cell_type": "code",
      "metadata": {
        "colab_type": "code",
        "id": "PRnDnCW-Z7qv",
        "colab": {
          "base_uri": "https://localhost:8080/",
          "height": 202
        },
        "outputId": "4334116b-2659-44ba-8815-271d6240146f"
      },
      "source": [
        "tokenizer = Tokenizer()\n",
        "!wget --no-check-certificate \\\n",
        "    https://storage.googleapis.com/laurencemoroney-blog.appspot.com/sonnets.txt \\\n",
        "    -O /tmp/sonnets.txt\n",
        "data = open('/tmp/sonnets.txt').read()\n",
        "\n",
        "corpus = data.lower().split(\"\\n\")\n",
        "\n",
        "\n",
        "tokenizer.fit_on_texts(corpus)\n",
        "total_words = len(tokenizer.word_index) + 1\n",
        "\n",
        "# create input sequences using list of tokens\n",
        "input_sequences = []\n",
        "for line in corpus:\n",
        "\ttoken_list = tokenizer.texts_to_sequences([line])[0]\n",
        "\tfor i in range(1, len(token_list)):\n",
        "\t\tn_gram_sequence = token_list[:i+1]\n",
        "\t\tinput_sequences.append(n_gram_sequence)\n",
        "\n",
        "\n",
        "# pad sequences \n",
        "max_sequence_len = max([len(x) for x in input_sequences])\n",
        "input_sequences = np.array(pad_sequences(input_sequences, maxlen=max_sequence_len, padding='pre'))\n",
        "\n",
        "# create predictors and label\n",
        "predictors, label = input_sequences[:,:-1],input_sequences[:,-1]\n",
        "\n",
        "label = ku.to_categorical(label, num_classes=total_words)"
      ],
      "execution_count": 2,
      "outputs": [
        {
          "output_type": "stream",
          "text": [
            "--2020-01-19 12:47:13--  https://storage.googleapis.com/laurencemoroney-blog.appspot.com/sonnets.txt\n",
            "Resolving storage.googleapis.com (storage.googleapis.com)... 108.177.111.128, 2607:f8b0:4001:c12::80\n",
            "Connecting to storage.googleapis.com (storage.googleapis.com)|108.177.111.128|:443... connected.\n",
            "HTTP request sent, awaiting response... 200 OK\n",
            "Length: 93578 (91K) [text/plain]\n",
            "Saving to: ‘/tmp/sonnets.txt’\n",
            "\n",
            "\r/tmp/sonnets.txt      0%[                    ]       0  --.-KB/s               \r/tmp/sonnets.txt    100%[===================>]  91.38K  --.-KB/s    in 0.002s  \n",
            "\n",
            "2020-01-19 12:47:13 (54.4 MB/s) - ‘/tmp/sonnets.txt’ saved [93578/93578]\n",
            "\n"
          ],
          "name": "stdout"
        }
      ]
    },
    {
      "cell_type": "code",
      "metadata": {
        "id": "w9vH8Y59ajYL",
        "colab_type": "code",
        "colab": {
          "base_uri": "https://localhost:8080/",
          "height": 642
        },
        "outputId": "f210b53e-b47f-4ae8-d18e-a70739fd14fc"
      },
      "source": [
        "model = Sequential()\n",
        "model.add(Embedding(total_words, 100, input_length=max_sequence_len-1))\n",
        "model.add(Bidirectional(LSTM(150, return_sequences = True)))\n",
        "model.add(Dropout(0.2))\n",
        "model.add(LSTM(100))\n",
        "model.add(Dense(total_words/2, activation='relu', kernel_regularizer=regularizers.l2(0.01)))\n",
        "model.add(Dense(total_words, activation='softmax'))\n",
        "model.compile(loss='categorical_crossentropy', optimizer='adam', metrics=['accuracy'])\n",
        "print(model.summary())\n"
      ],
      "execution_count": 3,
      "outputs": [
        {
          "output_type": "stream",
          "text": [
            "WARNING:tensorflow:From /usr/local/lib/python3.6/dist-packages/tensorflow_core/python/keras/initializers.py:119: calling RandomUniform.__init__ (from tensorflow.python.ops.init_ops) with dtype is deprecated and will be removed in a future version.\n",
            "Instructions for updating:\n",
            "Call initializer instance with the dtype argument instead of passing it to the constructor\n",
            "WARNING:tensorflow:From /usr/local/lib/python3.6/dist-packages/tensorflow_core/python/ops/resource_variable_ops.py:1630: calling BaseResourceVariable.__init__ (from tensorflow.python.ops.resource_variable_ops) with constraint is deprecated and will be removed in a future version.\n",
            "Instructions for updating:\n",
            "If using Keras pass *_constraint arguments to layers.\n",
            "WARNING:tensorflow:From /usr/local/lib/python3.6/dist-packages/tensorflow_core/python/ops/init_ops.py:97: calling GlorotUniform.__init__ (from tensorflow.python.ops.init_ops) with dtype is deprecated and will be removed in a future version.\n",
            "Instructions for updating:\n",
            "Call initializer instance with the dtype argument instead of passing it to the constructor\n",
            "WARNING:tensorflow:From /usr/local/lib/python3.6/dist-packages/tensorflow_core/python/ops/init_ops.py:97: calling Orthogonal.__init__ (from tensorflow.python.ops.init_ops) with dtype is deprecated and will be removed in a future version.\n",
            "Instructions for updating:\n",
            "Call initializer instance with the dtype argument instead of passing it to the constructor\n",
            "WARNING:tensorflow:From /usr/local/lib/python3.6/dist-packages/tensorflow_core/python/ops/init_ops.py:97: calling Zeros.__init__ (from tensorflow.python.ops.init_ops) with dtype is deprecated and will be removed in a future version.\n",
            "Instructions for updating:\n",
            "Call initializer instance with the dtype argument instead of passing it to the constructor\n",
            "Model: \"sequential\"\n",
            "_________________________________________________________________\n",
            "Layer (type)                 Output Shape              Param #   \n",
            "=================================================================\n",
            "embedding (Embedding)        (None, 10, 100)           321100    \n",
            "_________________________________________________________________\n",
            "bidirectional (Bidirectional (None, 10, 300)           301200    \n",
            "_________________________________________________________________\n",
            "dropout (Dropout)            (None, 10, 300)           0         \n",
            "_________________________________________________________________\n",
            "lstm_1 (LSTM)                (None, 100)               160400    \n",
            "_________________________________________________________________\n",
            "dense (Dense)                (None, 1605)              162105    \n",
            "_________________________________________________________________\n",
            "dense_1 (Dense)              (None, 3211)              5156866   \n",
            "=================================================================\n",
            "Total params: 6,101,671\n",
            "Trainable params: 6,101,671\n",
            "Non-trainable params: 0\n",
            "_________________________________________________________________\n",
            "None\n"
          ],
          "name": "stdout"
        }
      ]
    },
    {
      "cell_type": "code",
      "metadata": {
        "id": "AIg2f1HBxqof",
        "colab_type": "code",
        "colab": {
          "base_uri": "https://localhost:8080/",
          "height": 1000
        },
        "outputId": "cbda81c7-de69-486e-d758-7cdbf931ad24"
      },
      "source": [
        " history = model.fit(predictors, label, epochs=100, verbose=1)"
      ],
      "execution_count": 4,
      "outputs": [
        {
          "output_type": "stream",
          "text": [
            "WARNING:tensorflow:From /usr/local/lib/python3.6/dist-packages/tensorflow_core/python/ops/math_grad.py:1424: where (from tensorflow.python.ops.array_ops) is deprecated and will be removed in a future version.\n",
            "Instructions for updating:\n",
            "Use tf.where in 2.0, which has the same broadcast rule as np.where\n",
            "Train on 15462 samples\n",
            "Epoch 1/100\n",
            "15462/15462 [==============================] - 25s 2ms/sample - loss: 6.9001 - acc: 0.0219\n",
            "Epoch 2/100\n",
            "15462/15462 [==============================] - 23s 1ms/sample - loss: 6.5037 - acc: 0.0234\n",
            "Epoch 3/100\n",
            "15462/15462 [==============================] - 23s 1ms/sample - loss: 6.3853 - acc: 0.0283\n",
            "Epoch 4/100\n",
            "15462/15462 [==============================] - 23s 1ms/sample - loss: 6.2712 - acc: 0.0297\n",
            "Epoch 5/100\n",
            "15462/15462 [==============================] - 24s 2ms/sample - loss: 6.1756 - acc: 0.0351\n",
            "Epoch 6/100\n",
            "15462/15462 [==============================] - 22s 1ms/sample - loss: 6.0986 - acc: 0.0385\n",
            "Epoch 7/100\n",
            "15462/15462 [==============================] - 23s 1ms/sample - loss: 6.0200 - acc: 0.0398\n",
            "Epoch 8/100\n",
            "15462/15462 [==============================] - 23s 1ms/sample - loss: 5.9400 - acc: 0.0433\n",
            "Epoch 9/100\n",
            "15462/15462 [==============================] - 23s 1ms/sample - loss: 5.8511 - acc: 0.0478\n",
            "Epoch 10/100\n",
            "15462/15462 [==============================] - 23s 1ms/sample - loss: 5.7495 - acc: 0.0527\n",
            "Epoch 11/100\n",
            "15462/15462 [==============================] - 22s 1ms/sample - loss: 5.6512 - acc: 0.0596\n",
            "Epoch 12/100\n",
            "15462/15462 [==============================] - 23s 2ms/sample - loss: 5.5527 - acc: 0.0627\n",
            "Epoch 13/100\n",
            "15462/15462 [==============================] - 22s 1ms/sample - loss: 5.4583 - acc: 0.0696\n",
            "Epoch 14/100\n",
            "15462/15462 [==============================] - 23s 1ms/sample - loss: 5.3621 - acc: 0.0755\n",
            "Epoch 15/100\n",
            "15462/15462 [==============================] - 23s 1ms/sample - loss: 5.2686 - acc: 0.0827\n",
            "Epoch 16/100\n",
            "15462/15462 [==============================] - 22s 1ms/sample - loss: 5.1722 - acc: 0.0893\n",
            "Epoch 17/100\n",
            "15462/15462 [==============================] - 23s 2ms/sample - loss: 5.0744 - acc: 0.0968\n",
            "Epoch 18/100\n",
            "15462/15462 [==============================] - 24s 2ms/sample - loss: 4.9743 - acc: 0.1061\n",
            "Epoch 19/100\n",
            "15462/15462 [==============================] - 22s 1ms/sample - loss: 4.8808 - acc: 0.1140\n",
            "Epoch 20/100\n",
            "15462/15462 [==============================] - 23s 2ms/sample - loss: 4.7735 - acc: 0.1251\n",
            "Epoch 21/100\n",
            "15462/15462 [==============================] - 23s 1ms/sample - loss: 4.6719 - acc: 0.1350\n",
            "Epoch 22/100\n",
            "15462/15462 [==============================] - 23s 1ms/sample - loss: 4.5678 - acc: 0.1436\n",
            "Epoch 23/100\n",
            "15462/15462 [==============================] - 23s 1ms/sample - loss: 4.4683 - acc: 0.1554\n",
            "Epoch 24/100\n",
            "15462/15462 [==============================] - 23s 1ms/sample - loss: 4.3591 - acc: 0.1656\n",
            "Epoch 25/100\n",
            "15462/15462 [==============================] - 22s 1ms/sample - loss: 4.2630 - acc: 0.1741\n",
            "Epoch 26/100\n",
            "15462/15462 [==============================] - 24s 2ms/sample - loss: 4.1645 - acc: 0.1867\n",
            "Epoch 27/100\n",
            "15462/15462 [==============================] - 23s 1ms/sample - loss: 4.0553 - acc: 0.2041\n",
            "Epoch 28/100\n",
            "15462/15462 [==============================] - 22s 1ms/sample - loss: 3.9588 - acc: 0.2158\n",
            "Epoch 29/100\n",
            "15462/15462 [==============================] - 23s 1ms/sample - loss: 3.8568 - acc: 0.2313\n",
            "Epoch 30/100\n",
            "15462/15462 [==============================] - 23s 2ms/sample - loss: 3.7646 - acc: 0.2467\n",
            "Epoch 31/100\n",
            "15462/15462 [==============================] - 23s 2ms/sample - loss: 3.6716 - acc: 0.2695\n",
            "Epoch 32/100\n",
            "15462/15462 [==============================] - 23s 2ms/sample - loss: 3.5733 - acc: 0.2853\n",
            "Epoch 33/100\n",
            "15462/15462 [==============================] - 23s 1ms/sample - loss: 3.4917 - acc: 0.3055\n",
            "Epoch 34/100\n",
            "15462/15462 [==============================] - 23s 2ms/sample - loss: 3.4019 - acc: 0.3212\n",
            "Epoch 35/100\n",
            "15462/15462 [==============================] - 23s 1ms/sample - loss: 3.3176 - acc: 0.3351\n",
            "Epoch 36/100\n",
            "15462/15462 [==============================] - 23s 2ms/sample - loss: 3.2333 - acc: 0.3579\n",
            "Epoch 37/100\n",
            "15462/15462 [==============================] - 22s 1ms/sample - loss: 3.1458 - acc: 0.3791\n",
            "Epoch 38/100\n",
            "15462/15462 [==============================] - 22s 1ms/sample - loss: 3.0804 - acc: 0.3938\n",
            "Epoch 39/100\n",
            "15462/15462 [==============================] - 23s 1ms/sample - loss: 3.0021 - acc: 0.4107\n",
            "Epoch 40/100\n",
            "15462/15462 [==============================] - 22s 1ms/sample - loss: 2.9283 - acc: 0.4353\n",
            "Epoch 41/100\n",
            "15462/15462 [==============================] - 23s 1ms/sample - loss: 2.8498 - acc: 0.4506\n",
            "Epoch 42/100\n",
            "15462/15462 [==============================] - 22s 1ms/sample - loss: 2.7972 - acc: 0.4582\n",
            "Epoch 43/100\n",
            "15462/15462 [==============================] - 23s 1ms/sample - loss: 2.7207 - acc: 0.4787\n",
            "Epoch 44/100\n",
            "15462/15462 [==============================] - 22s 1ms/sample - loss: 2.6595 - acc: 0.4925\n",
            "Epoch 45/100\n",
            "15462/15462 [==============================] - 22s 1ms/sample - loss: 2.5967 - acc: 0.5068\n",
            "Epoch 46/100\n",
            "15462/15462 [==============================] - 24s 2ms/sample - loss: 2.5459 - acc: 0.5199\n",
            "Epoch 47/100\n",
            "15462/15462 [==============================] - 23s 1ms/sample - loss: 2.4763 - acc: 0.5335\n",
            "Epoch 48/100\n",
            "15462/15462 [==============================] - 23s 1ms/sample - loss: 2.4432 - acc: 0.5372\n",
            "Epoch 49/100\n",
            "15462/15462 [==============================] - 22s 1ms/sample - loss: 2.3789 - acc: 0.5532\n",
            "Epoch 50/100\n",
            "15462/15462 [==============================] - 23s 2ms/sample - loss: 2.3304 - acc: 0.5638\n",
            "Epoch 51/100\n",
            "15462/15462 [==============================] - 23s 1ms/sample - loss: 2.2768 - acc: 0.5778\n",
            "Epoch 52/100\n",
            "15462/15462 [==============================] - 22s 1ms/sample - loss: 2.2371 - acc: 0.5905\n",
            "Epoch 53/100\n",
            "15462/15462 [==============================] - 23s 1ms/sample - loss: 2.1801 - acc: 0.6010\n",
            "Epoch 54/100\n",
            "15462/15462 [==============================] - 22s 1ms/sample - loss: 2.1354 - acc: 0.6085\n",
            "Epoch 55/100\n",
            "15462/15462 [==============================] - 23s 1ms/sample - loss: 2.1035 - acc: 0.6149\n",
            "Epoch 56/100\n",
            "15462/15462 [==============================] - 23s 2ms/sample - loss: 2.0730 - acc: 0.6220\n",
            "Epoch 57/100\n",
            "15462/15462 [==============================] - 22s 1ms/sample - loss: 2.0137 - acc: 0.6331\n",
            "Epoch 58/100\n",
            "15462/15462 [==============================] - 22s 1ms/sample - loss: 1.9826 - acc: 0.6417\n",
            "Epoch 59/100\n",
            "15462/15462 [==============================] - 22s 1ms/sample - loss: 1.9418 - acc: 0.6515\n",
            "Epoch 60/100\n",
            "15462/15462 [==============================] - 22s 1ms/sample - loss: 1.9070 - acc: 0.6546\n",
            "Epoch 61/100\n",
            "15462/15462 [==============================] - 22s 1ms/sample - loss: 1.8754 - acc: 0.6662\n",
            "Epoch 62/100\n",
            "15462/15462 [==============================] - 23s 1ms/sample - loss: 1.8457 - acc: 0.6691\n",
            "Epoch 63/100\n",
            "15462/15462 [==============================] - 22s 1ms/sample - loss: 1.8108 - acc: 0.6795\n",
            "Epoch 64/100\n",
            "15462/15462 [==============================] - 23s 1ms/sample - loss: 1.7807 - acc: 0.6865\n",
            "Epoch 65/100\n",
            "15462/15462 [==============================] - 23s 2ms/sample - loss: 1.7404 - acc: 0.6940\n",
            "Epoch 66/100\n",
            "15462/15462 [==============================] - 23s 1ms/sample - loss: 1.7117 - acc: 0.7006\n",
            "Epoch 67/100\n",
            "15462/15462 [==============================] - 23s 1ms/sample - loss: 1.7060 - acc: 0.6996\n",
            "Epoch 68/100\n",
            "15462/15462 [==============================] - 23s 2ms/sample - loss: 1.6694 - acc: 0.7077\n",
            "Epoch 69/100\n",
            "15462/15462 [==============================] - 23s 2ms/sample - loss: 1.6479 - acc: 0.7115\n",
            "Epoch 70/100\n",
            "15462/15462 [==============================] - 23s 1ms/sample - loss: 1.6139 - acc: 0.7178\n",
            "Epoch 71/100\n",
            "15462/15462 [==============================] - 22s 1ms/sample - loss: 1.5977 - acc: 0.7225\n",
            "Epoch 72/100\n",
            "15462/15462 [==============================] - 23s 1ms/sample - loss: 1.5726 - acc: 0.7272\n",
            "Epoch 73/100\n",
            "15462/15462 [==============================] - 22s 1ms/sample - loss: 1.5526 - acc: 0.7284\n",
            "Epoch 74/100\n",
            "15462/15462 [==============================] - 22s 1ms/sample - loss: 1.5208 - acc: 0.7375\n",
            "Epoch 75/100\n",
            "15462/15462 [==============================] - 23s 1ms/sample - loss: 1.4968 - acc: 0.7417\n",
            "Epoch 76/100\n",
            "15462/15462 [==============================] - 23s 1ms/sample - loss: 1.4741 - acc: 0.7465\n",
            "Epoch 77/100\n",
            "15462/15462 [==============================] - 23s 1ms/sample - loss: 1.4703 - acc: 0.7444\n",
            "Epoch 78/100\n",
            "15462/15462 [==============================] - 23s 1ms/sample - loss: 1.4426 - acc: 0.7495\n",
            "Epoch 79/100\n",
            "15462/15462 [==============================] - 23s 1ms/sample - loss: 1.4152 - acc: 0.7595\n",
            "Epoch 80/100\n",
            "15462/15462 [==============================] - 23s 2ms/sample - loss: 1.4171 - acc: 0.7544\n",
            "Epoch 81/100\n",
            "15462/15462 [==============================] - 23s 1ms/sample - loss: 1.3931 - acc: 0.7571\n",
            "Epoch 82/100\n",
            "15462/15462 [==============================] - 23s 1ms/sample - loss: 1.3757 - acc: 0.7635\n",
            "Epoch 83/100\n",
            "15462/15462 [==============================] - 22s 1ms/sample - loss: 1.3483 - acc: 0.7696\n",
            "Epoch 84/100\n",
            "15462/15462 [==============================] - 22s 1ms/sample - loss: 1.3312 - acc: 0.7732\n",
            "Epoch 85/100\n",
            "15462/15462 [==============================] - 22s 1ms/sample - loss: 1.3232 - acc: 0.7760\n",
            "Epoch 86/100\n",
            "15462/15462 [==============================] - 23s 1ms/sample - loss: 1.3140 - acc: 0.7742\n",
            "Epoch 87/100\n",
            "15462/15462 [==============================] - 23s 1ms/sample - loss: 1.2921 - acc: 0.7791\n",
            "Epoch 88/100\n",
            "15462/15462 [==============================] - 22s 1ms/sample - loss: 1.2872 - acc: 0.7795\n",
            "Epoch 89/100\n",
            "15462/15462 [==============================] - 23s 1ms/sample - loss: 1.2728 - acc: 0.7834\n",
            "Epoch 90/100\n",
            "15462/15462 [==============================] - 23s 2ms/sample - loss: 1.2597 - acc: 0.7798\n",
            "Epoch 91/100\n",
            "15462/15462 [==============================] - 23s 1ms/sample - loss: 1.2579 - acc: 0.7811\n",
            "Epoch 92/100\n",
            "15462/15462 [==============================] - 22s 1ms/sample - loss: 1.2352 - acc: 0.7895\n",
            "Epoch 93/100\n",
            "15462/15462 [==============================] - 22s 1ms/sample - loss: 1.2084 - acc: 0.7936\n",
            "Epoch 94/100\n",
            "15462/15462 [==============================] - 23s 2ms/sample - loss: 1.2184 - acc: 0.7886\n",
            "Epoch 95/100\n",
            "15462/15462 [==============================] - 22s 1ms/sample - loss: 1.2107 - acc: 0.7875\n",
            "Epoch 96/100\n",
            "15462/15462 [==============================] - 23s 1ms/sample - loss: 1.2008 - acc: 0.7919\n",
            "Epoch 97/100\n",
            "15462/15462 [==============================] - 23s 1ms/sample - loss: 1.1789 - acc: 0.7941\n",
            "Epoch 98/100\n",
            "15462/15462 [==============================] - 22s 1ms/sample - loss: 1.1673 - acc: 0.7980\n",
            "Epoch 99/100\n",
            "15462/15462 [==============================] - 22s 1ms/sample - loss: 1.1673 - acc: 0.7963\n",
            "Epoch 100/100\n",
            "15462/15462 [==============================] - 23s 1ms/sample - loss: 1.1485 - acc: 0.8008\n"
          ],
          "name": "stdout"
        }
      ]
    },
    {
      "cell_type": "code",
      "metadata": {
        "id": "1fXTEO3GJ282",
        "colab_type": "code",
        "colab": {
          "base_uri": "https://localhost:8080/",
          "height": 545
        },
        "outputId": "eb1dd7c6-61af-4b58-c96d-e5a2abc3a545"
      },
      "source": [
        "import matplotlib.pyplot as plt\n",
        "acc = history.history['acc']\n",
        "loss = history.history['loss']\n",
        "\n",
        "epochs = range(len(acc))\n",
        "\n",
        "plt.plot(epochs, acc, 'b', label='Training accuracy')\n",
        "plt.title('Training accuracy')\n",
        "\n",
        "plt.figure()\n",
        "\n",
        "plt.plot(epochs, loss, 'b', label='Training Loss')\n",
        "plt.title('Training loss')\n",
        "plt.legend()\n",
        "\n",
        "plt.show()"
      ],
      "execution_count": 5,
      "outputs": [
        {
          "output_type": "display_data",
          "data": {
            "image/png": "[encoded data removed]",
            "text/plain": [
              "<Figure size 432x288 with 1 Axes>"
            ]
          },
          "metadata": {
            "tags": []
          }
        },
        {
          "output_type": "display_data",
          "data": {
            "image/png": "[encoded data removed]",
            "text/plain": [
              "<Figure size 432x288 with 1 Axes>"
            ]
          },
          "metadata": {
            "tags": []
          }
        }
      ]
    },
    {
      "cell_type": "code",
      "metadata": {
        "id": "6Vc6PHgxa6Hm",
        "colab_type": "code",
        "colab": {
          "base_uri": "https://localhost:8080/",
          "height": 54
        },
        "outputId": "1870fed8-23f1-497b-8661-7d7f338a87a9"
      },
      "source": [
        "seed_text = \"Help me Obi Wan Kenobi, you're my only hope\"\n",
        "next_words = 100\n",
        "  \n",
        "for _ in range(next_words):\n",
        "\ttoken_list = tokenizer.texts_to_sequences([seed_text])[0]\n",
        "\ttoken_list = pad_sequences([token_list], maxlen=max_sequence_len-1, padding='pre')\n",
        "\tpredicted = model.predict_classes(token_list, verbose=0)\n",
        "\toutput_word = \"\"\n",
        "\tfor word, index in tokenizer.word_index.items():\n",
        "\t\tif index == predicted:\n",
        "\t\t\toutput_word = word\n",
        "\t\t\tbreak\n",
        "\tseed_text += \" \" + output_word\n",
        "print(seed_text)"
      ],
      "execution_count": 6,
      "outputs": [
        {
          "output_type": "stream",
          "text": [
            "Help me Obi Wan Kenobi, you're my only hope the painter and die ' live so ' so thought free not did departest make my mind high defaced new part 'will ' add a part can qualify outworn buried lies aside aside ' live so true great heaven their verse must strive to tell thee groan true bright ' must see rolling bring thine ' not without give youth bright i twain twain ' could see one cured cured loss before me fears on subjects friend so long so express'd ' must live so so 'no ' must mayst nothing thought i see thee my deeds is thee my\n"
          ],
          "name": "stdout"
        }
      ]
    }
  ]
}